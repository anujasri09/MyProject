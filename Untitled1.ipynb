{
 "cells": [
  {
   "cell_type": "code",
   "execution_count": 2,
   "metadata": {},
   "outputs": [
    {
     "name": "stdout",
     "output_type": "stream",
     "text": [
      "0\n",
      "6\n",
      "8\n",
      "12\n",
      "21\n",
      "29\n",
      "37\n",
      "39\n",
      "40\n"
     ]
    }
   ],
   "source": [
    "#wap to print index of all occurences of 'p' \n",
    "myStr=\"peter piper picked a peck of pickled peppers\"\n",
    "count=0\n",
    "ind=0\n",
    "while ind<len(myStr):\n",
    "    if(myStr[ind] == 'p'):\n",
    "        print(ind)\n",
    "    ind+=1\n"
   ]
  },
  {
   "cell_type": "code",
   "execution_count": 7,
   "metadata": {},
   "outputs": [
    {
     "name": "stdout",
     "output_type": "stream",
     "text": [
      "sreppep delkcip fo kcep a dekcip repip retep\n"
     ]
    }
   ],
   "source": [
    "#reverse of string \n",
    "myStr=\"peter piper picked a peck of pickled peppers\"\n",
    "i = -1\n",
    "outStr=''\n",
    "for i in range(-1,-(len(myStr)+1),-1):\n",
    "    outStr+= myStr[i]\n",
    "print(outStr)"
   ]
  },
  {
   "cell_type": "code",
   "execution_count": 9,
   "metadata": {},
   "outputs": [
    {
     "name": "stdout",
     "output_type": "stream",
     "text": [
      "eter ier icked a eck of ickled eers\n"
     ]
    }
   ],
   "source": [
    "#transfer statement\n",
    "#continue to skip the current iteration\n",
    "#break to exit of the loop\n",
    "myStr=\"peter piper picked a peck of pickled peppers\"\n",
    "outStr=''\n",
    "for i in range(0,len(myStr)):\n",
    "    if myStr[i] == 'p':\n",
    "        i+=1\n",
    "        continue\n",
    "    else:\n",
    "        outStr += myStr[i] \n",
    "        i+=1\n",
    "    \n",
    "print(outStr)"
   ]
  },
  {
   "cell_type": "code",
   "execution_count": null,
   "metadata": {},
   "outputs": [],
   "source": []
  }
 ],
 "metadata": {
  "kernelspec": {
   "display_name": "Python 3",
   "language": "python",
   "name": "python3"
  },
  "language_info": {
   "codemirror_mode": {
    "name": "ipython",
    "version": 3
   },
   "file_extension": ".py",
   "mimetype": "text/x-python",
   "name": "python",
   "nbconvert_exporter": "python",
   "pygments_lexer": "ipython3",
   "version": "3.8.5"
  }
 },
 "nbformat": 4,
 "nbformat_minor": 4
}
